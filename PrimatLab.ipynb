{
  "nbformat": 4,
  "nbformat_minor": 0,
  "metadata": {
    "colab": {
      "name": "PrimatLab.ipynb",
      "provenance": [],
      "authorship_tag": "ABX9TyNLc+7h15pSYRII0L1jd70S",
      "include_colab_link": true
    },
    "kernelspec": {
      "name": "python3",
      "display_name": "Python 3"
    },
    "language_info": {
      "name": "python"
    }
  },
  "cells": [
    {
      "cell_type": "markdown",
      "metadata": {
        "id": "view-in-github",
        "colab_type": "text"
      },
      "source": [
        "<a href=\"https://colab.research.google.com/github/ilyaShevchuk/PyData/blob/main/PrimatLab.ipynb\" target=\"_parent\"><img src=\"https://colab.research.google.com/assets/colab-badge.svg\" alt=\"Open In Colab\"/></a>"
      ]
    },
    {
      "cell_type": "markdown",
      "metadata": {
        "id": "PfUo36jo2zpk"
      },
      "source": [
        "# Лабораторная работа № 1\n"
      ]
    },
    {
      "cell_type": "markdown",
      "metadata": {
        "id": "qYbNe8gr6T9h"
      },
      "source": [
        "Импорты"
      ]
    },
    {
      "cell_type": "code",
      "metadata": {
        "id": "Ce0HeHRo6S7A"
      },
      "source": [
        "import numpy as np\n",
        "import math\n",
        "import csv\n",
        "import pandas as pd\n",
        "import matplotlib.pyplot as plt"
      ],
      "execution_count": 1,
      "outputs": []
    },
    {
      "cell_type": "markdown",
      "metadata": {
        "id": "SuOUcusm26sT"
      },
      "source": [
        "**Метод Дихотомии**"
      ]
    },
    {
      "cell_type": "code",
      "metadata": {
        "id": "WB_G65LC3JcM"
      },
      "source": [
        "def dichotomy_method(f, a, b, eps=1e-10):\n",
        "    intervals_length = []\n",
        "    delta = eps / 2\n",
        "    interval_length = b - a\n",
        "    function_calculations = 0\n",
        "    intervals_length.append(interval_length)\n",
        "    while interval_length > eps:\n",
        "        x1 = (a + b - delta) / 2\n",
        "        x2 = (a + b + delta) / 2\n",
        "        if f(x1) > f(x2):\n",
        "            a = x1\n",
        "        else:\n",
        "            b = x2\n",
        "        interval_length = b - a\n",
        "        function_calculations += 2\n",
        "        intervals_length.append(interval_length)\n",
        "    return (a + b) / 2.0, intervals_length, function_calculations"
      ],
      "execution_count": 2,
      "outputs": []
    },
    {
      "cell_type": "markdown",
      "metadata": {
        "id": "vq_06NoN3OU7"
      },
      "source": [
        "**Метод Золотого сечения**"
      ]
    },
    {
      "cell_type": "code",
      "metadata": {
        "id": "nupHTTS03ZDF"
      },
      "source": [
        "def golden_section_method(f, a, b, eps=1e-10):\n",
        "    intervals_length = []\n",
        "    interval_length = b - a\n",
        "    intervals_length.append(interval_length)\n",
        "    x1 = a + (3 - math.sqrt(5)) / 2 * (b - a)\n",
        "    x2 = a + (math.sqrt(5) - 1) / 2 * (b - a)\n",
        "    fx1 = f(x1)\n",
        "    fx2 = f(x2)\n",
        "    function_calculations = 2\n",
        "    while interval_length > eps:\n",
        "        if fx1 > fx2:\n",
        "            a = x1\n",
        "            x1 = x2\n",
        "            x2 = a + (math.sqrt(5) - 1) / 2 * (b - a)\n",
        "            fx1 = fx2\n",
        "            fx2 = f(x2)\n",
        "            function_calculations += 1\n",
        "        else:\n",
        "            b = x2\n",
        "            x2 = x1\n",
        "            x1 = a + (3 - math.sqrt(5)) / 2 * (b - a)\n",
        "            fx2 = fx1\n",
        "            fx1 = f(x1)\n",
        "            function_calculations += 1\n",
        "        interval_length = b - a\n",
        "        intervals_length.append(interval_length)\n",
        "    return (a + b) / 2.0,  intervals_length, function_calculations\n"
      ],
      "execution_count": 3,
      "outputs": []
    },
    {
      "cell_type": "markdown",
      "metadata": {
        "id": "bsIvUura3eAN"
      },
      "source": [
        "**Метод Парабол**"
      ]
    },
    {
      "cell_type": "code",
      "metadata": {
        "id": "cjEUPltP3zDo"
      },
      "source": [
        "def parabolic_method(f, a, b, eps=1e-10):\n",
        "    prev_x = a\n",
        "    x1, x2, x3 = a, (a + b) / 2, b\n",
        "    fx1, fx2, fx3 = f(x1), f(x2), f(x3)\n",
        "    function_calculations = 3\n",
        "    iterations = 0\n",
        "    while True:\n",
        "        iterations += 1\n",
        "        if x3 == x1 or x2 == x1 or x3 == x2:\n",
        "            return x2, function_calculations, iterations\n",
        "        a0 = fx1\n",
        "        a1 = (fx2 - fx1) / (x2 - x1)\n",
        "        a2 = ((fx3 - fx1) / (x3 - x1) - (fx2 - fx1) / (x2 - x1)) / (x3 - x2)\n",
        "        if a1 == a2:\n",
        "            return x2, function_calculations, iterations\n",
        "        x = (x1 + x2 - (a1 / a2)) / 2\n",
        "        fx = f(x)\n",
        "        function_calculations += 1\n",
        "        if abs(x - prev_x) <= eps:\n",
        "            return x, function_calculations, iterations\n",
        "        if x < x2:\n",
        "            if fx >= fx2:\n",
        "                x1, fx1 = x, fx\n",
        "            else:\n",
        "                x3, fx3 = x2, fx2\n",
        "                x2, fx2 = x, fx\n",
        "        else:\n",
        "            if fx >= fx2:\n",
        "                x3, fx3 = x, fx\n",
        "            else:\n",
        "                x1, fx1 = x2, fx2\n",
        "                x2, fx2 = x, fx\n",
        "        prev_x = x"
      ],
      "execution_count": 4,
      "outputs": []
    },
    {
      "cell_type": "markdown",
      "metadata": {
        "id": "iRi0LvXN30S7"
      },
      "source": [
        "**Метод Фибоначчи**"
      ]
    },
    {
      "cell_type": "code",
      "metadata": {
        "id": "HNI3n0my3-0j"
      },
      "source": [
        "def fibonacci_method(f, a, b, eps=1e-10):\n",
        "    intervals_length = []\n",
        "    function_calculations = 0\n",
        "    intervals_length.append(b - a)\n",
        "    n = 0\n",
        "    fib1 = 1\n",
        "    fib2 = 1\n",
        "    while (fib1 + fib2) <= (b - a) / eps:\n",
        "        n += 1\n",
        "        tmp = fib1\n",
        "        fib1, fib2 = fib2, fib2 + tmp\n",
        "\n",
        "    x1 = a + (fib2 - fib1) / fib2 * (b - a)\n",
        "    x2 = a + fib1 / fib2 * (b - a)\n",
        "    f1, f2 = f(x1), f(x2)\n",
        "\n",
        "    for i in range(0, n - 2):\n",
        "        if f2 > f1:\n",
        "            b, new_f = x2, f1\n",
        "        else:\n",
        "            a = x1\n",
        "            x1 = x2\n",
        "            new_f = f2\n",
        "        if x1 - a < b - x1:\n",
        "            x2 = b - (x1 - a)\n",
        "            f1, f2 = new_f, f(x2)\n",
        "        else:\n",
        "            x2 = x1\n",
        "            x1 = a + (b - x2)\n",
        "            f2, f1 = new_f, f(x1)\n",
        "        intervals_length.append(b - a)\n",
        "        function_calculations += 1\n",
        "    return (b + a) / 2, intervals_length, function_calculations\n"
      ],
      "execution_count": 5,
      "outputs": []
    },
    {
      "cell_type": "markdown",
      "metadata": {
        "id": "pIxbMD7B4EaZ"
      },
      "source": [
        "**Комбинированный метод Брента**"
      ]
    },
    {
      "cell_type": "code",
      "metadata": {
        "id": "70_cvjhK4Qfc"
      },
      "source": [
        "golden_section = (1 + math.sqrt(5)) / 2\n",
        "\n",
        "\n",
        "def brent_method(f, a, c, eps=1e-10):\n",
        "    x = v = w = (a + c) / 2\n",
        "    x_res = w_res = v_res = f(x)\n",
        "    function_calculations = 1\n",
        "    d = e = c - a\n",
        "    while True:\n",
        "        g, u = e, None\n",
        "        e = d\n",
        "        if x != v and x != w and w != v and x_res != v_res and x_res != w_res and v_res != w_res:\n",
        "            if w > c:\n",
        "                a0 = v_res\n",
        "                a1 = (x_res - v_res) / (x - v)\n",
        "                a2 = ((w_res - v_res) / (w - v) - (x_res - v_res) / (x - v)) / (w - x)\n",
        "                u = (v + x - (a1 / a2)) / 2\n",
        "            else:\n",
        "                a0 = w_res\n",
        "                a1 = (x_res - w_res) / (x - w)\n",
        "                a2 = ((v_res - w_res) / (v - w) - (x_res - w_res) / (x - w)) / (v - x)\n",
        "                u = (w + x - (a1 / a2)) / 2\n",
        "        if u is not None and u - a > eps and u < c - eps and abs(u - x) < g / 2:\n",
        "            d = abs(u - x)\n",
        "        else:\n",
        "            if x < (c - a) / 2:\n",
        "                u = x + (c - x) / golden_section\n",
        "                d = c - x\n",
        "            else:\n",
        "                u = x - (x - a) / golden_section\n",
        "                d = x - a\n",
        "        if abs(u - x) < eps:\n",
        "            return u, 0, function_calculations\n",
        "        u_res = f(u)\n",
        "        function_calculations += 1\n",
        "        if u_res <= x_res:\n",
        "            if u >= x:\n",
        "                a = x\n",
        "            else:\n",
        "                c = x\n",
        "            v, w, x = w, x, u\n",
        "            v_res = w_res\n",
        "            w_res = x_res\n",
        "            x_res = u_res\n",
        "        else:\n",
        "            if u >= x:\n",
        "                c = u\n",
        "            else:\n",
        "                a = u\n",
        "            if u_res <= w_res or w == x:\n",
        "                v, w = w, u\n",
        "                v_res, w_res = w_res, u_res\n",
        "            elif u_res <= v_res or v == x or v == w:\n",
        "                v, v_res = u, u_res\n"
      ],
      "execution_count": 6,
      "outputs": []
    },
    {
      "cell_type": "markdown",
      "metadata": {
        "id": "Eo201MyfPYSm"
      },
      "source": [
        "Функции для тестов"
      ]
    },
    {
      "cell_type": "code",
      "metadata": {
        "id": "8B5akZ-J8B2f"
      },
      "source": [
        "def fun(x):\n",
        "    return math.exp(math.sin(x)) * (x ** 2)\n",
        "    \n",
        "def fun2(x):\n",
        "    return (x ** 2) - x - 1\n",
        "\n",
        "columns=['Start segment', 'End segment', 'Epsilon', 'Minimum Point', 'Count of fun calls']"
      ],
      "execution_count": 7,
      "outputs": []
    },
    {
      "cell_type": "markdown",
      "metadata": {
        "id": "zjkIBSlA4Ray"
      },
      "source": [
        "**Функция для тестирвания метода**"
      ]
    },
    {
      "cell_type": "code",
      "metadata": {
        "id": "N0GhGDeU4Ywt"
      },
      "source": [
        "def method_test(method, f, file_name):\n",
        "  for i in range(1):\n",
        "    borders = np.random.uniform(i, i+1, size=(1, 2))\n",
        "    for border in borders:\n",
        "      start_segment = min(border[0], border[1])\n",
        "      end_segment = max(border[0], border[1])\n",
        "      for i in range(1, 15):\n",
        "        eps = 1/10**i\n",
        "        min_point, edges, count_calls = method(f, start_segment, end_segment, eps)\n",
        "        data2= [start_segment, end_segment,eps, min_point, count_calls]\n",
        "        df1 = pd.DataFrame([data2], columns=columns)\n",
        "        df1.to_csv(file_name, mode='a', header=None, index=False)\n",
        "  return edges"
      ],
      "execution_count": 20,
      "outputs": []
    },
    {
      "cell_type": "markdown",
      "metadata": {
        "id": "OzmXLwJ_PDJt"
      },
      "source": [
        "Тестирование *Метода Дихотомии*"
      ]
    },
    {
      "cell_type": "code",
      "metadata": {
        "colab": {
          "base_uri": "https://localhost:8080/",
          "height": 466
        },
        "id": "PjxiGUnQPLFR",
        "outputId": "bec3faab-68fd-4db6-898f-dd90ed04dee2"
      },
      "source": [
        "df_test2 = pd.DataFrame(columns=columns)\n",
        "df_test2.to_csv('test2.csv', index=False)\n",
        "edges = method_test(dichotomy_method, fun, 'test2.csv')\n",
        "a_test2 = pd.read_csv('test2.csv', index_col=False)\n",
        "a_test2"
      ],
      "execution_count": 22,
      "outputs": [
        {
          "output_type": "execute_result",
          "data": {
            "text/html": [
              "<div>\n",
              "<style scoped>\n",
              "    .dataframe tbody tr th:only-of-type {\n",
              "        vertical-align: middle;\n",
              "    }\n",
              "\n",
              "    .dataframe tbody tr th {\n",
              "        vertical-align: top;\n",
              "    }\n",
              "\n",
              "    .dataframe thead th {\n",
              "        text-align: right;\n",
              "    }\n",
              "</style>\n",
              "<table border=\"1\" class=\"dataframe\">\n",
              "  <thead>\n",
              "    <tr style=\"text-align: right;\">\n",
              "      <th></th>\n",
              "      <th>Start segment</th>\n",
              "      <th>End segment</th>\n",
              "      <th>Epsilon</th>\n",
              "      <th>Minimum Point</th>\n",
              "      <th>Count of fun calls</th>\n",
              "    </tr>\n",
              "  </thead>\n",
              "  <tbody>\n",
              "    <tr>\n",
              "      <th>0</th>\n",
              "      <td>0.84976</td>\n",
              "      <td>0.962894</td>\n",
              "      <td>1.000000e-01</td>\n",
              "      <td>0.890543</td>\n",
              "      <td>2</td>\n",
              "    </tr>\n",
              "    <tr>\n",
              "      <th>1</th>\n",
              "      <td>0.84976</td>\n",
              "      <td>0.962894</td>\n",
              "      <td>1.000000e-02</td>\n",
              "      <td>0.853949</td>\n",
              "      <td>10</td>\n",
              "    </tr>\n",
              "    <tr>\n",
              "      <th>2</th>\n",
              "      <td>0.84976</td>\n",
              "      <td>0.962894</td>\n",
              "      <td>1.000000e-03</td>\n",
              "      <td>0.850230</td>\n",
              "      <td>16</td>\n",
              "    </tr>\n",
              "    <tr>\n",
              "      <th>3</th>\n",
              "      <td>0.84976</td>\n",
              "      <td>0.962894</td>\n",
              "      <td>1.000000e-04</td>\n",
              "      <td>0.849799</td>\n",
              "      <td>24</td>\n",
              "    </tr>\n",
              "    <tr>\n",
              "      <th>4</th>\n",
              "      <td>0.84976</td>\n",
              "      <td>0.962894</td>\n",
              "      <td>1.000000e-05</td>\n",
              "      <td>0.849764</td>\n",
              "      <td>30</td>\n",
              "    </tr>\n",
              "    <tr>\n",
              "      <th>5</th>\n",
              "      <td>0.84976</td>\n",
              "      <td>0.962894</td>\n",
              "      <td>1.000000e-06</td>\n",
              "      <td>0.849760</td>\n",
              "      <td>36</td>\n",
              "    </tr>\n",
              "    <tr>\n",
              "      <th>6</th>\n",
              "      <td>0.84976</td>\n",
              "      <td>0.962894</td>\n",
              "      <td>1.000000e-07</td>\n",
              "      <td>0.849760</td>\n",
              "      <td>44</td>\n",
              "    </tr>\n",
              "    <tr>\n",
              "      <th>7</th>\n",
              "      <td>0.84976</td>\n",
              "      <td>0.962894</td>\n",
              "      <td>1.000000e-08</td>\n",
              "      <td>0.849760</td>\n",
              "      <td>50</td>\n",
              "    </tr>\n",
              "    <tr>\n",
              "      <th>8</th>\n",
              "      <td>0.84976</td>\n",
              "      <td>0.962894</td>\n",
              "      <td>1.000000e-09</td>\n",
              "      <td>0.849760</td>\n",
              "      <td>56</td>\n",
              "    </tr>\n",
              "    <tr>\n",
              "      <th>9</th>\n",
              "      <td>0.84976</td>\n",
              "      <td>0.962894</td>\n",
              "      <td>1.000000e-10</td>\n",
              "      <td>0.849760</td>\n",
              "      <td>64</td>\n",
              "    </tr>\n",
              "    <tr>\n",
              "      <th>10</th>\n",
              "      <td>0.84976</td>\n",
              "      <td>0.962894</td>\n",
              "      <td>1.000000e-11</td>\n",
              "      <td>0.849760</td>\n",
              "      <td>70</td>\n",
              "    </tr>\n",
              "    <tr>\n",
              "      <th>11</th>\n",
              "      <td>0.84976</td>\n",
              "      <td>0.962894</td>\n",
              "      <td>1.000000e-12</td>\n",
              "      <td>0.849760</td>\n",
              "      <td>76</td>\n",
              "    </tr>\n",
              "    <tr>\n",
              "      <th>12</th>\n",
              "      <td>0.84976</td>\n",
              "      <td>0.962894</td>\n",
              "      <td>1.000000e-13</td>\n",
              "      <td>0.849760</td>\n",
              "      <td>84</td>\n",
              "    </tr>\n",
              "    <tr>\n",
              "      <th>13</th>\n",
              "      <td>0.84976</td>\n",
              "      <td>0.962894</td>\n",
              "      <td>1.000000e-14</td>\n",
              "      <td>0.849760</td>\n",
              "      <td>90</td>\n",
              "    </tr>\n",
              "  </tbody>\n",
              "</table>\n",
              "</div>"
            ],
            "text/plain": [
              "    Start segment  End segment       Epsilon  Minimum Point  Count of fun calls\n",
              "0         0.84976     0.962894  1.000000e-01       0.890543                   2\n",
              "1         0.84976     0.962894  1.000000e-02       0.853949                  10\n",
              "2         0.84976     0.962894  1.000000e-03       0.850230                  16\n",
              "3         0.84976     0.962894  1.000000e-04       0.849799                  24\n",
              "4         0.84976     0.962894  1.000000e-05       0.849764                  30\n",
              "5         0.84976     0.962894  1.000000e-06       0.849760                  36\n",
              "6         0.84976     0.962894  1.000000e-07       0.849760                  44\n",
              "7         0.84976     0.962894  1.000000e-08       0.849760                  50\n",
              "8         0.84976     0.962894  1.000000e-09       0.849760                  56\n",
              "9         0.84976     0.962894  1.000000e-10       0.849760                  64\n",
              "10        0.84976     0.962894  1.000000e-11       0.849760                  70\n",
              "11        0.84976     0.962894  1.000000e-12       0.849760                  76\n",
              "12        0.84976     0.962894  1.000000e-13       0.849760                  84\n",
              "13        0.84976     0.962894  1.000000e-14       0.849760                  90"
            ]
          },
          "metadata": {
            "tags": []
          },
          "execution_count": 22
        }
      ]
    },
    {
      "cell_type": "code",
      "metadata": {
        "colab": {
          "base_uri": "https://localhost:8080/",
          "height": 264
        },
        "id": "NCoUXnYHa9fS",
        "outputId": "3bfed718-b8a3-402b-b0ee-2e9afaf3a080"
      },
      "source": [
        "b_test2 = a_test2.sort_values(by='Epsilon')\n",
        "plt.plot(b_test2['Epsilon'], b_test2['Count of fun calls'])\n",
        "plt.xlim(1e-14, 1e-1)\n",
        "plt.show()"
      ],
      "execution_count": 32,
      "outputs": [
        {
          "output_type": "display_data",
          "data": {
            "image/png": "[encoded data removed]",
            "text/plain": [
              "<Figure size 432x288 with 1 Axes>"
            ]
          },
          "metadata": {
            "tags": [],
            "needs_background": "light"
          }
        }
      ]
    },
    {
      "cell_type": "markdown",
      "metadata": {
        "id": "A-qA_pxNNd2f"
      },
      "source": [
        "Тестирование *Метода золотого сечения*"
      ]
    },
    {
      "cell_type": "code",
      "metadata": {
        "colab": {
          "base_uri": "https://localhost:8080/",
          "height": 503
        },
        "id": "n2EiDwHANdRU",
        "outputId": "865ae39f-ea63-48bd-b4a2-7e8ed27539e7"
      },
      "source": [
        "df = pd.DataFrame(columns=columns)\n",
        "df.to_csv('test1.csv', index=False)\n",
        "edges = method_test(golden_section_method, fun, 'test1.csv')\n",
        "a = pd.read_csv('test1.csv', index_col=False)\n",
        "print(edges)\n",
        "a"
      ],
      "execution_count": 25,
      "outputs": [
        {
          "output_type": "stream",
          "text": [
            "[0.37126288602808033, 0.22945308232673212, 0.1418098037013482, 0.08764327862538385, 0.05416652507596437, 0.03347675354941945, 0.020689771526544914, 0.012786982022874538, 0.007902789503670349, 0.004884192519204189, 0.0030185969844661598, 0.0018655955347380293, 0.0011530014497281305, 0.0007125940850098988, 0.0004404073647182316, 0.0002721867202916395, 0.00016822064442659213, 0.00010396607586504736, 6.425456856154477e-05, 3.971150730350259e-05, 2.4543061258042176e-05, 1.5168446045460415e-05, 9.374615212609516e-06, 5.793830832850899e-06, 3.580784379758617e-06, 2.213046453092282e-06, 1.3677379266940903e-06, 8.453085263981919e-07, 5.224294002958985e-07, 3.228791261022934e-07, 1.9955027419360505e-07, 1.2332885190868836e-07, 7.622142228491668e-08, 4.710742962377168e-08, 2.911399263338943e-08, 1.799343699038225e-08, 1.112055564300718e-08, 6.8728813473750705e-09, 4.247674295632109e-09, 2.625207079498537e-09, 1.6224672161335718e-09, 1.0027398633649653e-09, 6.197273250130308e-10, 3.830125383519345e-10, 2.3671478666109635e-10, 1.4629777944641376e-10, 9.04170072146826e-11, 5.588077223173116e-11, 3.453623498295144e-11, 2.134456500435533e-11, 1.319166997859611e-11, 8.152895025759221e-12, 5.0387749528368886e-12, 3.114120072922333e-12, 1.92462712433894e-12, 1.1894929485833927e-12, 7.351341757555474e-13, 4.543587728278453e-13, 2.808031585033177e-13, 1.735556143245276e-13, 1.0724754417879012e-13, 6.628031457012185e-14, 4.0967229608668276e-14, 2.531308496145357e-14, 1.5654144647214707e-14, 9.658940314238862e-15]\n"
          ],
          "name": "stdout"
        },
        {
          "output_type": "execute_result",
          "data": {
            "text/html": [
              "<div>\n",
              "<style scoped>\n",
              "    .dataframe tbody tr th:only-of-type {\n",
              "        vertical-align: middle;\n",
              "    }\n",
              "\n",
              "    .dataframe tbody tr th {\n",
              "        vertical-align: top;\n",
              "    }\n",
              "\n",
              "    .dataframe thead th {\n",
              "        text-align: right;\n",
              "    }\n",
              "</style>\n",
              "<table border=\"1\" class=\"dataframe\">\n",
              "  <thead>\n",
              "    <tr style=\"text-align: right;\">\n",
              "      <th></th>\n",
              "      <th>Start segment</th>\n",
              "      <th>End segment</th>\n",
              "      <th>Epsilon</th>\n",
              "      <th>Minimum Point</th>\n",
              "      <th>Count of fun calls</th>\n",
              "    </tr>\n",
              "  </thead>\n",
              "  <tbody>\n",
              "    <tr>\n",
              "      <th>0</th>\n",
              "      <td>0.195407</td>\n",
              "      <td>0.56667</td>\n",
              "      <td>1.000000e-01</td>\n",
              "      <td>0.239228</td>\n",
              "      <td>5</td>\n",
              "    </tr>\n",
              "    <tr>\n",
              "      <th>1</th>\n",
              "      <td>0.195407</td>\n",
              "      <td>0.56667</td>\n",
              "      <td>1.000000e-02</td>\n",
              "      <td>0.199358</td>\n",
              "      <td>10</td>\n",
              "    </tr>\n",
              "    <tr>\n",
              "      <th>2</th>\n",
              "      <td>0.195407</td>\n",
              "      <td>0.56667</td>\n",
              "      <td>1.000000e-03</td>\n",
              "      <td>0.195763</td>\n",
              "      <td>15</td>\n",
              "    </tr>\n",
              "    <tr>\n",
              "      <th>3</th>\n",
              "      <td>0.195407</td>\n",
              "      <td>0.56667</td>\n",
              "      <td>1.000000e-04</td>\n",
              "      <td>0.195439</td>\n",
              "      <td>20</td>\n",
              "    </tr>\n",
              "    <tr>\n",
              "      <th>4</th>\n",
              "      <td>0.195407</td>\n",
              "      <td>0.56667</td>\n",
              "      <td>1.000000e-05</td>\n",
              "      <td>0.195411</td>\n",
              "      <td>24</td>\n",
              "    </tr>\n",
              "    <tr>\n",
              "      <th>5</th>\n",
              "      <td>0.195407</td>\n",
              "      <td>0.56667</td>\n",
              "      <td>1.000000e-06</td>\n",
              "      <td>0.195407</td>\n",
              "      <td>29</td>\n",
              "    </tr>\n",
              "    <tr>\n",
              "      <th>6</th>\n",
              "      <td>0.195407</td>\n",
              "      <td>0.56667</td>\n",
              "      <td>1.000000e-07</td>\n",
              "      <td>0.195407</td>\n",
              "      <td>34</td>\n",
              "    </tr>\n",
              "    <tr>\n",
              "      <th>7</th>\n",
              "      <td>0.195407</td>\n",
              "      <td>0.56667</td>\n",
              "      <td>1.000000e-08</td>\n",
              "      <td>0.195407</td>\n",
              "      <td>39</td>\n",
              "    </tr>\n",
              "    <tr>\n",
              "      <th>8</th>\n",
              "      <td>0.195407</td>\n",
              "      <td>0.56667</td>\n",
              "      <td>1.000000e-09</td>\n",
              "      <td>0.195407</td>\n",
              "      <td>44</td>\n",
              "    </tr>\n",
              "    <tr>\n",
              "      <th>9</th>\n",
              "      <td>0.195407</td>\n",
              "      <td>0.56667</td>\n",
              "      <td>1.000000e-10</td>\n",
              "      <td>0.195407</td>\n",
              "      <td>48</td>\n",
              "    </tr>\n",
              "    <tr>\n",
              "      <th>10</th>\n",
              "      <td>0.195407</td>\n",
              "      <td>0.56667</td>\n",
              "      <td>1.000000e-11</td>\n",
              "      <td>0.195407</td>\n",
              "      <td>53</td>\n",
              "    </tr>\n",
              "    <tr>\n",
              "      <th>11</th>\n",
              "      <td>0.195407</td>\n",
              "      <td>0.56667</td>\n",
              "      <td>1.000000e-12</td>\n",
              "      <td>0.195407</td>\n",
              "      <td>58</td>\n",
              "    </tr>\n",
              "    <tr>\n",
              "      <th>12</th>\n",
              "      <td>0.195407</td>\n",
              "      <td>0.56667</td>\n",
              "      <td>1.000000e-13</td>\n",
              "      <td>0.195407</td>\n",
              "      <td>63</td>\n",
              "    </tr>\n",
              "    <tr>\n",
              "      <th>13</th>\n",
              "      <td>0.195407</td>\n",
              "      <td>0.56667</td>\n",
              "      <td>1.000000e-14</td>\n",
              "      <td>0.195407</td>\n",
              "      <td>67</td>\n",
              "    </tr>\n",
              "  </tbody>\n",
              "</table>\n",
              "</div>"
            ],
            "text/plain": [
              "    Start segment  End segment       Epsilon  Minimum Point  Count of fun calls\n",
              "0        0.195407      0.56667  1.000000e-01       0.239228                   5\n",
              "1        0.195407      0.56667  1.000000e-02       0.199358                  10\n",
              "2        0.195407      0.56667  1.000000e-03       0.195763                  15\n",
              "3        0.195407      0.56667  1.000000e-04       0.195439                  20\n",
              "4        0.195407      0.56667  1.000000e-05       0.195411                  24\n",
              "5        0.195407      0.56667  1.000000e-06       0.195407                  29\n",
              "6        0.195407      0.56667  1.000000e-07       0.195407                  34\n",
              "7        0.195407      0.56667  1.000000e-08       0.195407                  39\n",
              "8        0.195407      0.56667  1.000000e-09       0.195407                  44\n",
              "9        0.195407      0.56667  1.000000e-10       0.195407                  48\n",
              "10       0.195407      0.56667  1.000000e-11       0.195407                  53\n",
              "11       0.195407      0.56667  1.000000e-12       0.195407                  58\n",
              "12       0.195407      0.56667  1.000000e-13       0.195407                  63\n",
              "13       0.195407      0.56667  1.000000e-14       0.195407                  67"
            ]
          },
          "metadata": {
            "tags": []
          },
          "execution_count": 25
        }
      ]
    },
    {
      "cell_type": "markdown",
      "metadata": {
        "id": "koihjmVGTiQJ"
      },
      "source": [
        "График"
      ]
    },
    {
      "cell_type": "code",
      "metadata": {
        "colab": {
          "base_uri": "https://localhost:8080/",
          "height": 268
        },
        "id": "2eYrkd_oThQe",
        "outputId": "46cb47a9-45c1-477b-e06d-5f2b3ef7bb8a"
      },
      "source": [
        "b = a.sort_values(by='Epsilon')\n",
        "plt.plot(b['Epsilon'], b['Count of fun calls'])\n",
        "plt.xlim(1e-14, 1e-1)\n",
        "plt.show()"
      ],
      "execution_count": 33,
      "outputs": [
        {
          "output_type": "display_data",
          "data": {
            "image/png": "[encoded data removed]",
            "text/plain": [
              "<Figure size 432x288 with 1 Axes>"
            ]
          },
          "metadata": {
            "tags": [],
            "needs_background": "light"
          }
        }
      ]
    },
    {
      "cell_type": "markdown",
      "metadata": {
        "id": "qKQqNUVkQDHX"
      },
      "source": [
        "Тестирование *Метода Фибоначчи*"
      ]
    },
    {
      "cell_type": "code",
      "metadata": {
        "id": "vECKLUQVQK5n",
        "colab": {
          "base_uri": "https://localhost:8080/",
          "height": 466
        },
        "outputId": "ff5862d4-cae0-445e-dd97-ccb8b942fc14"
      },
      "source": [
        "df_test3 = pd.DataFrame(columns=columns)\n",
        "df_test3.to_csv('test3.csv', index=False)\n",
        "edges = method_test(fibonacci_method, fun, 'test3.csv')\n",
        "a_test3 = pd.read_csv('test3.csv', index_col=False)\n",
        "a_test3"
      ],
      "execution_count": 27,
      "outputs": [
        {
          "output_type": "execute_result",
          "data": {
            "text/html": [
              "<div>\n",
              "<style scoped>\n",
              "    .dataframe tbody tr th:only-of-type {\n",
              "        vertical-align: middle;\n",
              "    }\n",
              "\n",
              "    .dataframe tbody tr th {\n",
              "        vertical-align: top;\n",
              "    }\n",
              "\n",
              "    .dataframe thead th {\n",
              "        text-align: right;\n",
              "    }\n",
              "</style>\n",
              "<table border=\"1\" class=\"dataframe\">\n",
              "  <thead>\n",
              "    <tr style=\"text-align: right;\">\n",
              "      <th></th>\n",
              "      <th>Start segment</th>\n",
              "      <th>End segment</th>\n",
              "      <th>Epsilon</th>\n",
              "      <th>Minimum Point</th>\n",
              "      <th>Count of fun calls</th>\n",
              "    </tr>\n",
              "  </thead>\n",
              "  <tbody>\n",
              "    <tr>\n",
              "      <th>0</th>\n",
              "      <td>0.110169</td>\n",
              "      <td>0.314481</td>\n",
              "      <td>1.000000e-01</td>\n",
              "      <td>0.212325</td>\n",
              "      <td>0</td>\n",
              "    </tr>\n",
              "    <tr>\n",
              "      <th>1</th>\n",
              "      <td>0.110169</td>\n",
              "      <td>0.314481</td>\n",
              "      <td>1.000000e-02</td>\n",
              "      <td>0.133744</td>\n",
              "      <td>3</td>\n",
              "    </tr>\n",
              "    <tr>\n",
              "      <th>2</th>\n",
              "      <td>0.110169</td>\n",
              "      <td>0.314481</td>\n",
              "      <td>1.000000e-03</td>\n",
              "      <td>0.112297</td>\n",
              "      <td>8</td>\n",
              "    </tr>\n",
              "    <tr>\n",
              "      <th>3</th>\n",
              "      <td>0.110169</td>\n",
              "      <td>0.314481</td>\n",
              "      <td>1.000000e-04</td>\n",
              "      <td>0.110361</td>\n",
              "      <td>13</td>\n",
              "    </tr>\n",
              "    <tr>\n",
              "      <th>4</th>\n",
              "      <td>0.110169</td>\n",
              "      <td>0.314481</td>\n",
              "      <td>1.000000e-05</td>\n",
              "      <td>0.110186</td>\n",
              "      <td>18</td>\n",
              "    </tr>\n",
              "    <tr>\n",
              "      <th>5</th>\n",
              "      <td>0.110169</td>\n",
              "      <td>0.314481</td>\n",
              "      <td>1.000000e-06</td>\n",
              "      <td>0.110171</td>\n",
              "      <td>23</td>\n",
              "    </tr>\n",
              "    <tr>\n",
              "      <th>6</th>\n",
              "      <td>0.110169</td>\n",
              "      <td>0.314481</td>\n",
              "      <td>1.000000e-07</td>\n",
              "      <td>0.110169</td>\n",
              "      <td>27</td>\n",
              "    </tr>\n",
              "    <tr>\n",
              "      <th>7</th>\n",
              "      <td>0.110169</td>\n",
              "      <td>0.314481</td>\n",
              "      <td>1.000000e-08</td>\n",
              "      <td>0.110169</td>\n",
              "      <td>32</td>\n",
              "    </tr>\n",
              "    <tr>\n",
              "      <th>8</th>\n",
              "      <td>0.110169</td>\n",
              "      <td>0.314481</td>\n",
              "      <td>1.000000e-09</td>\n",
              "      <td>0.110169</td>\n",
              "      <td>37</td>\n",
              "    </tr>\n",
              "    <tr>\n",
              "      <th>9</th>\n",
              "      <td>0.110169</td>\n",
              "      <td>0.314481</td>\n",
              "      <td>1.000000e-10</td>\n",
              "      <td>0.110169</td>\n",
              "      <td>42</td>\n",
              "    </tr>\n",
              "    <tr>\n",
              "      <th>10</th>\n",
              "      <td>0.110169</td>\n",
              "      <td>0.314481</td>\n",
              "      <td>1.000000e-11</td>\n",
              "      <td>0.110169</td>\n",
              "      <td>47</td>\n",
              "    </tr>\n",
              "    <tr>\n",
              "      <th>11</th>\n",
              "      <td>0.110169</td>\n",
              "      <td>0.314481</td>\n",
              "      <td>1.000000e-12</td>\n",
              "      <td>0.110169</td>\n",
              "      <td>51</td>\n",
              "    </tr>\n",
              "    <tr>\n",
              "      <th>12</th>\n",
              "      <td>0.110169</td>\n",
              "      <td>0.314481</td>\n",
              "      <td>1.000000e-13</td>\n",
              "      <td>0.110169</td>\n",
              "      <td>56</td>\n",
              "    </tr>\n",
              "    <tr>\n",
              "      <th>13</th>\n",
              "      <td>0.110169</td>\n",
              "      <td>0.314481</td>\n",
              "      <td>1.000000e-14</td>\n",
              "      <td>0.110169</td>\n",
              "      <td>61</td>\n",
              "    </tr>\n",
              "  </tbody>\n",
              "</table>\n",
              "</div>"
            ],
            "text/plain": [
              "    Start segment  End segment       Epsilon  Minimum Point  Count of fun calls\n",
              "0        0.110169     0.314481  1.000000e-01       0.212325                   0\n",
              "1        0.110169     0.314481  1.000000e-02       0.133744                   3\n",
              "2        0.110169     0.314481  1.000000e-03       0.112297                   8\n",
              "3        0.110169     0.314481  1.000000e-04       0.110361                  13\n",
              "4        0.110169     0.314481  1.000000e-05       0.110186                  18\n",
              "5        0.110169     0.314481  1.000000e-06       0.110171                  23\n",
              "6        0.110169     0.314481  1.000000e-07       0.110169                  27\n",
              "7        0.110169     0.314481  1.000000e-08       0.110169                  32\n",
              "8        0.110169     0.314481  1.000000e-09       0.110169                  37\n",
              "9        0.110169     0.314481  1.000000e-10       0.110169                  42\n",
              "10       0.110169     0.314481  1.000000e-11       0.110169                  47\n",
              "11       0.110169     0.314481  1.000000e-12       0.110169                  51\n",
              "12       0.110169     0.314481  1.000000e-13       0.110169                  56\n",
              "13       0.110169     0.314481  1.000000e-14       0.110169                  61"
            ]
          },
          "metadata": {
            "tags": []
          },
          "execution_count": 27
        }
      ]
    },
    {
      "cell_type": "markdown",
      "metadata": {
        "id": "rLHsFsDuJAMx"
      },
      "source": [
        "График"
      ]
    },
    {
      "cell_type": "code",
      "metadata": {
        "colab": {
          "base_uri": "https://localhost:8080/",
          "height": 264
        },
        "id": "Y7DETxXhI_rg",
        "outputId": "29a0343f-533c-463e-a5fc-5ee0d930284e"
      },
      "source": [
        "b_test3 = a_test3.sort_values(by='Epsilon')\n",
        "plt.plot(b_test3['Epsilon'], b_test3['Count of fun calls'])\n",
        "plt.xlim(1e-14, 1e-1)\n",
        "plt.show()"
      ],
      "execution_count": 31,
      "outputs": [
        {
          "output_type": "display_data",
          "data": {
            "image/png": "[encoded data removed]",
            "text/plain": [
              "<Figure size 432x288 with 1 Axes>"
            ]
          },
          "metadata": {
            "tags": [],
            "needs_background": "light"
          }
        }
      ]
    },
    {
      "cell_type": "markdown",
      "metadata": {
        "id": "JMNMieOdQ_4N"
      },
      "source": [
        "Тестирование *Метода парабол*"
      ]
    },
    {
      "cell_type": "code",
      "metadata": {
        "id": "00bb1qxmRIoL",
        "colab": {
          "base_uri": "https://localhost:8080/",
          "height": 197
        },
        "outputId": "3a8ef8d1-dc99-4952-a0e2-f3a430cc6bb4"
      },
      "source": [
        "df = pd.DataFrame(columns=columns)\n",
        "df.to_csv('test4.csv', index=False)\n",
        "method_test(parabolic_method, fun, 'test4.csv')\n",
        "a_test4 = pd.read_csv('test4.csv', index_col=False)\n",
        "a_test4.head()"
      ],
      "execution_count": 34,
      "outputs": [
        {
          "output_type": "execute_result",
          "data": {
            "text/html": [
              "<div>\n",
              "<style scoped>\n",
              "    .dataframe tbody tr th:only-of-type {\n",
              "        vertical-align: middle;\n",
              "    }\n",
              "\n",
              "    .dataframe tbody tr th {\n",
              "        vertical-align: top;\n",
              "    }\n",
              "\n",
              "    .dataframe thead th {\n",
              "        text-align: right;\n",
              "    }\n",
              "</style>\n",
              "<table border=\"1\" class=\"dataframe\">\n",
              "  <thead>\n",
              "    <tr style=\"text-align: right;\">\n",
              "      <th></th>\n",
              "      <th>Start segment</th>\n",
              "      <th>End segment</th>\n",
              "      <th>Epsilon</th>\n",
              "      <th>Minimum Point</th>\n",
              "      <th>Count of fun calls</th>\n",
              "    </tr>\n",
              "  </thead>\n",
              "  <tbody>\n",
              "    <tr>\n",
              "      <th>0</th>\n",
              "      <td>0.117686</td>\n",
              "      <td>0.660425</td>\n",
              "      <td>0.10000</td>\n",
              "      <td>0.106036</td>\n",
              "      <td>1</td>\n",
              "    </tr>\n",
              "    <tr>\n",
              "      <th>1</th>\n",
              "      <td>0.117686</td>\n",
              "      <td>0.660425</td>\n",
              "      <td>0.01000</td>\n",
              "      <td>0.002587</td>\n",
              "      <td>4</td>\n",
              "    </tr>\n",
              "    <tr>\n",
              "      <th>2</th>\n",
              "      <td>0.117686</td>\n",
              "      <td>0.660425</td>\n",
              "      <td>0.00100</td>\n",
              "      <td>0.000180</td>\n",
              "      <td>6</td>\n",
              "    </tr>\n",
              "    <tr>\n",
              "      <th>3</th>\n",
              "      <td>0.117686</td>\n",
              "      <td>0.660425</td>\n",
              "      <td>0.00010</td>\n",
              "      <td>0.000012</td>\n",
              "      <td>8</td>\n",
              "    </tr>\n",
              "    <tr>\n",
              "      <th>4</th>\n",
              "      <td>0.117686</td>\n",
              "      <td>0.660425</td>\n",
              "      <td>0.00001</td>\n",
              "      <td>0.000003</td>\n",
              "      <td>9</td>\n",
              "    </tr>\n",
              "  </tbody>\n",
              "</table>\n",
              "</div>"
            ],
            "text/plain": [
              "   Start segment  End segment  Epsilon  Minimum Point  Count of fun calls\n",
              "0       0.117686     0.660425  0.10000       0.106036                   1\n",
              "1       0.117686     0.660425  0.01000       0.002587                   4\n",
              "2       0.117686     0.660425  0.00100       0.000180                   6\n",
              "3       0.117686     0.660425  0.00010       0.000012                   8\n",
              "4       0.117686     0.660425  0.00001       0.000003                   9"
            ]
          },
          "metadata": {
            "tags": []
          },
          "execution_count": 34
        }
      ]
    },
    {
      "cell_type": "markdown",
      "metadata": {
        "id": "4AzeNKNSJv_Q"
      },
      "source": [
        "График"
      ]
    },
    {
      "cell_type": "code",
      "metadata": {
        "colab": {
          "base_uri": "https://localhost:8080/",
          "height": 264
        },
        "id": "CTQgcL9UJwLD",
        "outputId": "c117ea24-6309-4319-a41b-543776ba9c46"
      },
      "source": [
        "b_test4 = a_test4.sort_values(by='Epsilon')\n",
        "plt.plot(b_test4['Epsilon'], b_test4['Count of fun calls'])\n",
        "plt.xlim(1e-14, 1e-1)\n",
        "plt.show()"
      ],
      "execution_count": 35,
      "outputs": [
        {
          "output_type": "display_data",
          "data": {
            "image/png": "[encoded data removed]",
            "text/plain": [
              "<Figure size 432x288 with 1 Axes>"
            ]
          },
          "metadata": {
            "tags": [],
            "needs_background": "light"
          }
        }
      ]
    },
    {
      "cell_type": "markdown",
      "metadata": {
        "id": "LZu-YweORgQM"
      },
      "source": [
        "Тестирование *Метода Брента*"
      ]
    },
    {
      "cell_type": "code",
      "metadata": {
        "id": "KZogPM0qRoP5",
        "colab": {
          "base_uri": "https://localhost:8080/",
          "height": 197
        },
        "outputId": "0c6154c3-6b73-4de0-8802-9132943aa439"
      },
      "source": [
        "df = pd.DataFrame(columns=columns)\n",
        "df.to_csv('test5.csv', index=False)\n",
        "edges = method_test(brent_method, fun, 'test5.csv')\n",
        "a_test5 = pd.read_csv('test5.csv', index_col=False)\n",
        "a_test5.head()"
      ],
      "execution_count": 36,
      "outputs": [
        {
          "output_type": "execute_result",
          "data": {
            "text/html": [
              "<div>\n",
              "<style scoped>\n",
              "    .dataframe tbody tr th:only-of-type {\n",
              "        vertical-align: middle;\n",
              "    }\n",
              "\n",
              "    .dataframe tbody tr th {\n",
              "        vertical-align: top;\n",
              "    }\n",
              "\n",
              "    .dataframe thead th {\n",
              "        text-align: right;\n",
              "    }\n",
              "</style>\n",
              "<table border=\"1\" class=\"dataframe\">\n",
              "  <thead>\n",
              "    <tr style=\"text-align: right;\">\n",
              "      <th></th>\n",
              "      <th>Start segment</th>\n",
              "      <th>End segment</th>\n",
              "      <th>Epsilon</th>\n",
              "      <th>Minimum Point</th>\n",
              "      <th>Count of fun calls</th>\n",
              "    </tr>\n",
              "  </thead>\n",
              "  <tbody>\n",
              "    <tr>\n",
              "      <th>0</th>\n",
              "      <td>0.112669</td>\n",
              "      <td>0.833621</td>\n",
              "      <td>0.10000</td>\n",
              "      <td>0.165262</td>\n",
              "      <td>2</td>\n",
              "    </tr>\n",
              "    <tr>\n",
              "      <th>1</th>\n",
              "      <td>0.112669</td>\n",
              "      <td>0.833621</td>\n",
              "      <td>0.01000</td>\n",
              "      <td>0.115600</td>\n",
              "      <td>5</td>\n",
              "    </tr>\n",
              "    <tr>\n",
              "      <th>2</th>\n",
              "      <td>0.112669</td>\n",
              "      <td>0.833621</td>\n",
              "      <td>0.00100</td>\n",
              "      <td>0.113097</td>\n",
              "      <td>7</td>\n",
              "    </tr>\n",
              "    <tr>\n",
              "      <th>3</th>\n",
              "      <td>0.112669</td>\n",
              "      <td>0.833621</td>\n",
              "      <td>0.00010</td>\n",
              "      <td>0.112693</td>\n",
              "      <td>10</td>\n",
              "    </tr>\n",
              "    <tr>\n",
              "      <th>4</th>\n",
              "      <td>0.112669</td>\n",
              "      <td>0.833621</td>\n",
              "      <td>0.00001</td>\n",
              "      <td>0.112673</td>\n",
              "      <td>12</td>\n",
              "    </tr>\n",
              "  </tbody>\n",
              "</table>\n",
              "</div>"
            ],
            "text/plain": [
              "   Start segment  End segment  Epsilon  Minimum Point  Count of fun calls\n",
              "0       0.112669     0.833621  0.10000       0.165262                   2\n",
              "1       0.112669     0.833621  0.01000       0.115600                   5\n",
              "2       0.112669     0.833621  0.00100       0.113097                   7\n",
              "3       0.112669     0.833621  0.00010       0.112693                  10\n",
              "4       0.112669     0.833621  0.00001       0.112673                  12"
            ]
          },
          "metadata": {
            "tags": []
          },
          "execution_count": 36
        }
      ]
    },
    {
      "cell_type": "markdown",
      "metadata": {
        "id": "eteCXiXbG1d5"
      },
      "source": [
        "График"
      ]
    },
    {
      "cell_type": "code",
      "metadata": {
        "colab": {
          "base_uri": "https://localhost:8080/",
          "height": 264
        },
        "id": "4zMdL4bTG3b5",
        "outputId": "44a54470-81f2-4d52-dc70-2697f0010640"
      },
      "source": [
        "b_test5 = a_test5.sort_values(by='Epsilon')\n",
        "plt.plot(b_test5['Epsilon'], b_test5['Count of fun calls'])\n",
        "plt.xlim(1e-14, 1e-1)\n",
        "plt.show()"
      ],
      "execution_count": 37,
      "outputs": [
        {
          "output_type": "display_data",
          "data": {
            "image/png": "[encoded data removed]",
            "text/plain": [
              "<Figure size 432x288 with 1 Axes>"
            ]
          },
          "metadata": {
            "tags": [],
            "needs_background": "light"
          }
        }
      ]
    }
  ]
}