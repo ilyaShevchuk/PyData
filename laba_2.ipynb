{
  "nbformat": 4,
  "nbformat_minor": 0,
  "metadata": {
    "colab": {
      "name": "laba_2.ipynb",
      "provenance": [],
      "collapsed_sections": [],
      "authorship_tag": "ABX9TyPUVgTgcbNoLOcb59ohWNa6",
      "include_colab_link": true
    },
    "kernelspec": {
      "name": "python3",
      "display_name": "Python 3"
    }
  },
  "cells": [
    {
      "cell_type": "markdown",
      "metadata": {
        "id": "view-in-github",
        "colab_type": "text"
      },
      "source": [
        "<a href=\"https://colab.research.google.com/github/ilyaShevchuk/PyData/blob/main/laba_2.ipynb\" target=\"_parent\"><img src=\"https://colab.research.google.com/assets/colab-badge.svg\" alt=\"Open In Colab\"/></a>"
      ]
    },
    {
      "cell_type": "markdown",
      "metadata": {
        "id": "vopBq2jLh8Qx"
      },
      "source": [
        "**Лабораторная работа № 2**\n",
        "\n",
        "\n"
      ]
    },
    {
      "cell_type": "code",
      "metadata": {
        "id": "KQOVGTg0iRPD",
        "colab": {
          "base_uri": "https://localhost:8080/",
          "height": 212
        },
        "outputId": "94daab63-6225-4a3a-8c6b-80a3d99f6537"
      },
      "source": [
        "pip install pymorphy2"
      ],
      "execution_count": null,
      "outputs": [
        {
          "output_type": "stream",
          "text": [
            "Collecting pymorphy2\n",
            "\u001b[?25l  Downloading https://files.pythonhosted.org/packages/07/57/b2ff2fae3376d4f3c697b9886b64a54b476e1a332c67eee9f88e7f1ae8c9/pymorphy2-0.9.1-py3-none-any.whl (55kB)\n",
            "\r\u001b[K     |██████                          | 10kB 16.1MB/s eta 0:00:01\r\u001b[K     |███████████▉                    | 20kB 2.0MB/s eta 0:00:01\r\u001b[K     |█████████████████▊              | 30kB 2.7MB/s eta 0:00:01\r\u001b[K     |███████████████████████▋        | 40kB 3.1MB/s eta 0:00:01\r\u001b[K     |█████████████████████████████▌  | 51kB 2.4MB/s eta 0:00:01\r\u001b[K     |████████████████████████████████| 61kB 2.1MB/s \n",
            "\u001b[?25hCollecting dawg-python>=0.7.1\n",
            "  Downloading https://files.pythonhosted.org/packages/6a/84/ff1ce2071d4c650ec85745766c0047ccc3b5036f1d03559fd46bb38b5eeb/DAWG_Python-0.7.2-py2.py3-none-any.whl\n",
            "Collecting pymorphy2-dicts-ru<3.0,>=2.4\n",
            "\u001b[?25l  Downloading https://files.pythonhosted.org/packages/3a/79/bea0021eeb7eeefde22ef9e96badf174068a2dd20264b9a378f2be1cdd9e/pymorphy2_dicts_ru-2.4.417127.4579844-py2.py3-none-any.whl (8.2MB)\n",
            "\u001b[K     |████████████████████████████████| 8.2MB 5.0MB/s \n",
            "\u001b[?25hRequirement already satisfied: docopt>=0.6 in /usr/local/lib/python3.6/dist-packages (from pymorphy2) (0.6.2)\n",
            "Installing collected packages: dawg-python, pymorphy2-dicts-ru, pymorphy2\n",
            "Successfully installed dawg-python-0.7.2 pymorphy2-0.9.1 pymorphy2-dicts-ru-2.4.417127.4579844\n"
          ],
          "name": "stdout"
        }
      ]
    },
    {
      "cell_type": "code",
      "metadata": {
        "id": "fenTeCqBiNDm"
      },
      "source": [
        "from pandas import read_csv\n",
        "import pymorphy2\n",
        "import re\n",
        "from sklearn.feature_extraction.text import HashingVectorizer\n",
        "from sklearn.model_selection import train_test_split\n",
        "from sklearn.ensemble import RandomForestClassifier\n",
        "from sklearn.metrics import accuracy_score, roc_auc_score\n",
        "from sklearn.decomposition import PCA"
      ],
      "execution_count": null,
      "outputs": []
    },
    {
      "cell_type": "code",
      "metadata": {
        "id": "J7wnMreZifpu",
        "colab": {
          "base_uri": "https://localhost:8080/",
          "height": 35
        },
        "outputId": "2733aaf1-373f-4cc7-ad0a-546813ee242f"
      },
      "source": [
        "train = read_csv('https://static.tcsbank.ru/documents/olymp/passport_training_set.csv',';', index_col='id' ,encoding='cp1251')\n",
        "train.shape"
      ],
      "execution_count": null,
      "outputs": [
        {
          "output_type": "execute_result",
          "data": {
            "text/plain": [
              "(96750, 3)"
            ]
          },
          "metadata": {
            "tags": []
          },
          "execution_count": 3
        }
      ]
    },
    {
      "cell_type": "code",
      "metadata": {
        "id": "-xfPkGc9iik8",
        "colab": {
          "base_uri": "https://localhost:8080/",
          "height": 428
        },
        "outputId": "676b5e64-39eb-4ace-c870-efe766f85c4a"
      },
      "source": [
        "train"
      ],
      "execution_count": null,
      "outputs": [
        {
          "output_type": "execute_result",
          "data": {
            "text/html": [
              "<div>\n",
              "<style scoped>\n",
              "    .dataframe tbody tr th:only-of-type {\n",
              "        vertical-align: middle;\n",
              "    }\n",
              "\n",
              "    .dataframe tbody tr th {\n",
              "        vertical-align: top;\n",
              "    }\n",
              "\n",
              "    .dataframe thead th {\n",
              "        text-align: right;\n",
              "    }\n",
              "</style>\n",
              "<table border=\"1\" class=\"dataframe\">\n",
              "  <thead>\n",
              "    <tr style=\"text-align: right;\">\n",
              "      <th></th>\n",
              "      <th>passport_div_code</th>\n",
              "      <th>passport_issuer_name</th>\n",
              "      <th>passport_issue_month/year</th>\n",
              "    </tr>\n",
              "    <tr>\n",
              "      <th>id</th>\n",
              "      <th></th>\n",
              "      <th></th>\n",
              "      <th></th>\n",
              "    </tr>\n",
              "  </thead>\n",
              "  <tbody>\n",
              "    <tr>\n",
              "      <th>1</th>\n",
              "      <td>422008</td>\n",
              "      <td>беловским управление внутренних дел кемеровско...</td>\n",
              "      <td>11M2001</td>\n",
              "    </tr>\n",
              "    <tr>\n",
              "      <th>2</th>\n",
              "      <td>500112</td>\n",
              "      <td>территориальный пункт  в город орехово-зуево о...</td>\n",
              "      <td>03M2009</td>\n",
              "    </tr>\n",
              "    <tr>\n",
              "      <th>3</th>\n",
              "      <td>642001</td>\n",
              "      <td>волжским республика отдел внутренних дел город...</td>\n",
              "      <td>04M2002</td>\n",
              "    </tr>\n",
              "    <tr>\n",
              "      <th>4</th>\n",
              "      <td>162004</td>\n",
              "      <td>управление внутренних дел  московского республ...</td>\n",
              "      <td>12M2002</td>\n",
              "    </tr>\n",
              "    <tr>\n",
              "      <th>5</th>\n",
              "      <td>80001</td>\n",
              "      <td>отделом отдел федеральной миграционной службы ...</td>\n",
              "      <td>08M2009</td>\n",
              "    </tr>\n",
              "    <tr>\n",
              "      <th>...</th>\n",
              "      <td>...</td>\n",
              "      <td>...</td>\n",
              "      <td>...</td>\n",
              "    </tr>\n",
              "    <tr>\n",
              "      <th>96750</th>\n",
              "      <td>262013</td>\n",
              "      <td>отделом внутренних дел город кисловодска ставр...</td>\n",
              "      <td>10M2001</td>\n",
              "    </tr>\n",
              "    <tr>\n",
              "      <th>96751</th>\n",
              "      <td>640004</td>\n",
              "      <td>отделом управление федеральной миграционной сл...</td>\n",
              "      <td>02M2008</td>\n",
              "    </tr>\n",
              "    <tr>\n",
              "      <th>96752</th>\n",
              "      <td>692001</td>\n",
              "      <td>заволжским отделом внутренних дел города твери</td>\n",
              "      <td>03M2006</td>\n",
              "    </tr>\n",
              "    <tr>\n",
              "      <th>96753</th>\n",
              "      <td>422007</td>\n",
              "      <td>управление внутренних дел  город анжеро-суджен...</td>\n",
              "      <td>01M2004</td>\n",
              "    </tr>\n",
              "    <tr>\n",
              "      <th>96754</th>\n",
              "      <td>742015</td>\n",
              "      <td>управление внутренних дел  город копейска челя...</td>\n",
              "      <td>05M2003</td>\n",
              "    </tr>\n",
              "  </tbody>\n",
              "</table>\n",
              "<p>96750 rows × 3 columns</p>\n",
              "</div>"
            ],
            "text/plain": [
              "       passport_div_code  ... passport_issue_month/year\n",
              "id                        ...                          \n",
              "1                 422008  ...                   11M2001\n",
              "2                 500112  ...                   03M2009\n",
              "3                 642001  ...                   04M2002\n",
              "4                 162004  ...                   12M2002\n",
              "5                  80001  ...                   08M2009\n",
              "...                  ...  ...                       ...\n",
              "96750             262013  ...                   10M2001\n",
              "96751             640004  ...                   02M2008\n",
              "96752             692001  ...                   03M2006\n",
              "96753             422007  ...                   01M2004\n",
              "96754             742015  ...                   05M2003\n",
              "\n",
              "[96750 rows x 3 columns]"
            ]
          },
          "metadata": {
            "tags": []
          },
          "execution_count": 23
        }
      ]
    },
    {
      "cell_type": "markdown",
      "metadata": {
        "id": "6mEbRjsIn6bF"
      },
      "source": [
        ""
      ]
    },
    {
      "cell_type": "code",
      "metadata": {
        "id": "qeLa5ISFizBc",
        "colab": {
          "base_uri": "https://localhost:8080/",
          "height": 248
        },
        "outputId": "c556bfef-ead3-4bcb-aaaa-5d7310167669"
      },
      "source": [
        "example_code = train.passport_div_code[train.passport_div_code.duplicated()].values[0]\n",
        "for i in train.passport_issuer_name[train.passport_div_code == example_code].drop_duplicates():\n",
        "    print (i)"
      ],
      "execution_count": null,
      "outputs": [
        {
          "output_type": "stream",
          "text": [
            "ОТДЕЛЕНИЕМ УФМС РОССИИ ПО РЕСПУБЛИКЕ КАРЕЛИЯ В МЕДВЕЖ. Р-Е\n",
            "ОТДЕЛЕНИЕМ УФМС РОССИИ ПО Р. КАРЕЛИЯ В МЕДВЕЖЬЕГОРСКОМ РАЙОНЕ\n",
            "ОТДЕЛЕНИЕМ УФМС РОССИИ ПО РЕСП КАРЕЛИЯ В МЕДВЕЖЬЕГОРСКОМ Р-НЕ\n",
            "ОТДЕЛЕНИЕМ УФМС РОССИИ ПО РЕСПУБЛИКЕ КАРЕЛИЯ В МЕДВЕЖЬЕГОРСКОМ РАЙОНЕ\n",
            "ОУФМС РОССИИ ПО РЕСПУБЛИКЕ КАРЕЛИЯ В МЕДВЕЖЬЕГОРСКОМ РАЙОНЕ\n",
            "УФМС РОССИИ ПО РК В МЕДВЕЖЬЕГОРСКОМ РАЙОНЕ\n",
            "ОТДЕЛЕНИЕМ УФМС РОССИИ ПО РЕСПУБЛИКЕ КАРЕЛИЯ МЕДВЕЖЬЕГОРСКОМ Р-ОНЕ\n",
            "ОТДЕЛЕНИЕМ УФМС РОССИИ ПО РК В МЕДВЕЖЬЕГОРСКОМ РАЙОНЕ\n",
            "ОТДЕЛЕНИЕМ УФМС РОССИИ ПО РЕСПУБЛИКЕ КОРЕЛИЯ В МЕДВЕЖИГОРСКОМ РАЙОНЕ\n",
            "УФМС РОССИИ ПО Р. КАРЕЛИЯ МЕДВЕЖЬЕГОРСКОГО Р-НА\n",
            "ОТДЕЛОМ УФМС РОССИИ ПО РЕСПУБЛИКЕ КАРЕЛИЯ В МЕДВЕЖЬЕГОРСКОМ\n",
            "УФМС РЕСПУБЛИКИ КАРЕЛИИ МЕДВЕЖЬЕГОРСКОГО Р-ОН\n",
            "МЕДВЕЖЬЕГОРСКИМ ОВД\n"
          ],
          "name": "stdout"
        }
      ]
    },
    {
      "cell_type": "code",
      "metadata": {
        "id": "yYJZA-lwmJZv",
        "colab": {
          "base_uri": "https://localhost:8080/",
          "height": 516
        },
        "outputId": "197e6da6-d50e-4a36-a79a-22ed5c9f8a56"
      },
      "source": [
        "train.passport_issuer_name = train.passport_issuer_name.str.lower()\n",
        "train[train.passport_div_code == example_code].head(15)"
      ],
      "execution_count": null,
      "outputs": [
        {
          "output_type": "execute_result",
          "data": {
            "text/html": [
              "<div>\n",
              "<style scoped>\n",
              "    .dataframe tbody tr th:only-of-type {\n",
              "        vertical-align: middle;\n",
              "    }\n",
              "\n",
              "    .dataframe tbody tr th {\n",
              "        vertical-align: top;\n",
              "    }\n",
              "\n",
              "    .dataframe thead th {\n",
              "        text-align: right;\n",
              "    }\n",
              "</style>\n",
              "<table border=\"1\" class=\"dataframe\">\n",
              "  <thead>\n",
              "    <tr style=\"text-align: right;\">\n",
              "      <th></th>\n",
              "      <th>passport_div_code</th>\n",
              "      <th>passport_issuer_name</th>\n",
              "      <th>passport_issue_month/year</th>\n",
              "    </tr>\n",
              "    <tr>\n",
              "      <th>id</th>\n",
              "      <th></th>\n",
              "      <th></th>\n",
              "      <th></th>\n",
              "    </tr>\n",
              "  </thead>\n",
              "  <tbody>\n",
              "    <tr>\n",
              "      <th>19</th>\n",
              "      <td>100010</td>\n",
              "      <td>отделением уфмс россии по республике карелия в...</td>\n",
              "      <td>04M2008</td>\n",
              "    </tr>\n",
              "    <tr>\n",
              "      <th>22</th>\n",
              "      <td>100010</td>\n",
              "      <td>отделением уфмс россии по р. карелия в медвежь...</td>\n",
              "      <td>10M2009</td>\n",
              "    </tr>\n",
              "    <tr>\n",
              "      <th>5642</th>\n",
              "      <td>100010</td>\n",
              "      <td>отделением уфмс россии по респ карелия в медве...</td>\n",
              "      <td>08M2008</td>\n",
              "    </tr>\n",
              "    <tr>\n",
              "      <th>6668</th>\n",
              "      <td>100010</td>\n",
              "      <td>отделением уфмс россии по республике карелия в...</td>\n",
              "      <td>08M2011</td>\n",
              "    </tr>\n",
              "    <tr>\n",
              "      <th>8732</th>\n",
              "      <td>100010</td>\n",
              "      <td>отделением уфмс россии по республике карелия в...</td>\n",
              "      <td>08M2012</td>\n",
              "    </tr>\n",
              "    <tr>\n",
              "      <th>15637</th>\n",
              "      <td>100010</td>\n",
              "      <td>оуфмс россии по республике карелия в медвежьег...</td>\n",
              "      <td>08M2010</td>\n",
              "    </tr>\n",
              "    <tr>\n",
              "      <th>16749</th>\n",
              "      <td>100010</td>\n",
              "      <td>уфмс россии по рк в медвежьегорском районе</td>\n",
              "      <td>09M2007</td>\n",
              "    </tr>\n",
              "    <tr>\n",
              "      <th>17829</th>\n",
              "      <td>100010</td>\n",
              "      <td>оуфмс россии по республике карелия в медвежьег...</td>\n",
              "      <td>10M2008</td>\n",
              "    </tr>\n",
              "    <tr>\n",
              "      <th>25791</th>\n",
              "      <td>100010</td>\n",
              "      <td>отделением уфмс россии по республике карелия м...</td>\n",
              "      <td>06M2010</td>\n",
              "    </tr>\n",
              "    <tr>\n",
              "      <th>30258</th>\n",
              "      <td>100010</td>\n",
              "      <td>отделением уфмс россии по рк в медвежьегорском...</td>\n",
              "      <td>12M2008</td>\n",
              "    </tr>\n",
              "    <tr>\n",
              "      <th>31125</th>\n",
              "      <td>100010</td>\n",
              "      <td>отделением уфмс россии по республике корелия в...</td>\n",
              "      <td>05M2011</td>\n",
              "    </tr>\n",
              "    <tr>\n",
              "      <th>36295</th>\n",
              "      <td>100010</td>\n",
              "      <td>отделением уфмс россии по республике карелия в...</td>\n",
              "      <td>03M2010</td>\n",
              "    </tr>\n",
              "    <tr>\n",
              "      <th>44048</th>\n",
              "      <td>100010</td>\n",
              "      <td>уфмс россии по р. карелия медвежьегорского р-на</td>\n",
              "      <td>02M2010</td>\n",
              "    </tr>\n",
              "    <tr>\n",
              "      <th>44743</th>\n",
              "      <td>100010</td>\n",
              "      <td>отделением уфмс россии по респ карелия в медве...</td>\n",
              "      <td>08M2007</td>\n",
              "    </tr>\n",
              "    <tr>\n",
              "      <th>48839</th>\n",
              "      <td>100010</td>\n",
              "      <td>отделом уфмс россии по республике карелия в ме...</td>\n",
              "      <td>04M2007</td>\n",
              "    </tr>\n",
              "  </tbody>\n",
              "</table>\n",
              "</div>"
            ],
            "text/plain": [
              "       passport_div_code  ... passport_issue_month/year\n",
              "id                        ...                          \n",
              "19                100010  ...                   04M2008\n",
              "22                100010  ...                   10M2009\n",
              "5642              100010  ...                   08M2008\n",
              "6668              100010  ...                   08M2011\n",
              "8732              100010  ...                   08M2012\n",
              "15637             100010  ...                   08M2010\n",
              "16749             100010  ...                   09M2007\n",
              "17829             100010  ...                   10M2008\n",
              "25791             100010  ...                   06M2010\n",
              "30258             100010  ...                   12M2008\n",
              "31125             100010  ...                   05M2011\n",
              "36295             100010  ...                   03M2010\n",
              "44048             100010  ...                   02M2010\n",
              "44743             100010  ...                   08M2007\n",
              "48839             100010  ...                   04M2007\n",
              "\n",
              "[15 rows x 3 columns]"
            ]
          },
          "metadata": {
            "tags": []
          },
          "execution_count": 6
        }
      ]
    },
    {
      "cell_type": "code",
      "metadata": {
        "id": "rTYbSO6Bey6i"
      },
      "source": [
        "train.passport_issuer_name = train.passport_issuer_name.str.replace(u'р-(а|й|о|н|е)*',u'район')\n",
        "train.passport_issuer_name = train.passport_issuer_name.str.replace(u' г( |\\.|(ор(\\.| )))', u' город ')\n",
        "train.passport_issuer_name = train.passport_issuer_name.str.replace(u' р(|\\.есп )', u' республика ')\n"
      ],
      "execution_count": null,
      "outputs": []
    },
    {
      "cell_type": "code",
      "metadata": {
        "id": "TtnkZrnpe8TW"
      },
      "source": [
        "train.passport_issuer_name = train.passport_issuer_name.str.replace(u'адм[а-я]*\\.',u'административный')\n",
        "train.passport_issuer_name = train.passport_issuer_name.str.replace(u' ао ',u' административный округ ')\n",
        "train.passport_issuer_name = train.passport_issuer_name.str.replace(u'окр(\\.|уга|)',u'округ')"
      ],
      "execution_count": null,
      "outputs": []
    },
    {
      "cell_type": "code",
      "metadata": {
        "id": "xmy1V6rve8b4"
      },
      "source": [
        "sokr = {u'нао': u'ненецкий автономный округ',\n",
        "u'хмао': u'ханты-мансийский автономный округ',\n",
        "u'чао': u'чукотский автономный округ',\n",
        "u'янао': u'ямало-ненецкий автономный округ',\n",
        "u'вао': u'восточный административный округ',\n",
        "u'цао': u'центральный административный округ',\n",
        "u'зао': u'западный административный округ',\n",
        "u'cао': u'северный административный округ',\n",
        "u'свао': u'северо-восточный округ',\n",
        "u'сзао': u'северо-западный округ',\n",
        "u'оуфмс': u'отдел управление федеральной миграционной службы',\n",
        "u'офмс': u'отдел федеральной миграционной службы',\n",
        "u'уфмс': u'управление федеральной миграционной службы',\n",
        "u'увд': u'управление внутренних дел',\n",
        "u'ровд': u'районный отдел внутренних дел',\n",
        "u'говд': u'городской отдел внутренних дел',\n",
        "u'рувд': u'районное управление внутренних дел',\n",
        "u'овд': u'отдел внутренних дел',\n",
        "u'оувд': u'отдел управления внутренних дел',\n",
        "u'мро': u'межрайонный отдел',\n",
        "u'юао':u'южный', \n",
        "u'юзао':u'юго-западный', \n",
        "u'ювао':u'юго-восточный', \n",
        "u'пс':u'паспортный стол', \n",
        "u'тп':u'территориальный пункт'}"
      ],
      "execution_count": null,
      "outputs": []
    },
    {
      "cell_type": "code",
      "metadata": {
        "id": "KphwJDtsE2rA",
        "colab": {
          "base_uri": "https://localhost:8080/",
          "height": 284
        },
        "outputId": "c08023b2-a2ec-471b-fef6-5defa1e31c27"
      },
      "source": [
        "train.passport_issuer_name = train.passport_issuer_name.str.replace(u' - ?', u'-')\n",
        "train.passport_issuer_name = train.passport_issuer_name.str.replace(u'[^а-я -]','')\n",
        "train.passport_issuer_name = train.passport_issuer_name.str.replace(u'- ',' ')\n",
        "train.passport_issuer_name = train.passport_issuer_name.str.replace(u'  *',' ')\n",
        "print(train.keys)"
      ],
      "execution_count": null,
      "outputs": [
        {
          "output_type": "stream",
          "text": [
            "<bound method NDFrame.keys of        passport_div_code  ... passport_issue_month/year\n",
            "id                        ...                          \n",
            "1                 422008  ...                   11M2001\n",
            "2                 500112  ...                   03M2009\n",
            "3                 642001  ...                   04M2002\n",
            "4                 162004  ...                   12M2002\n",
            "5                  80001  ...                   08M2009\n",
            "...                  ...  ...                       ...\n",
            "96750             262013  ...                   10M2001\n",
            "96751             640004  ...                   02M2008\n",
            "96752             692001  ...                   03M2006\n",
            "96753             422007  ...                   01M2004\n",
            "96754             742015  ...                   05M2003\n",
            "\n",
            "[96750 rows x 3 columns]>\n"
          ],
          "name": "stdout"
        }
      ]
    },
    {
      "cell_type": "code",
      "metadata": {
        "id": "FyRQFfwAfiCk"
      },
      "source": [
        "for i in sokr.keys():\n",
        "    train.passport_issuer_name = train.passport_issuer_name.str.replace(u'( %s )|(^%s)|(%s$)' % (i,i,i), u' %s ' % (sokr[i]))\n",
        "    \n",
        "#удалим лишние пробелы в конце и начале строки\n",
        "train.passport_issuer_name = train.passport_issuer_name.str.lstrip()\n",
        "train.passport_issuer_name = train.passport_issuer_name.str.rstrip()"
      ],
      "execution_count": null,
      "outputs": []
    },
    {
      "cell_type": "markdown",
      "metadata": {
        "id": "ieA4wpD5cCTz"
      },
      "source": [
        "## Анализ данных"
      ]
    },
    {
      "cell_type": "code",
      "metadata": {
        "id": "TbuRCTtcYeR8"
      },
      "source": [
        "def f_tokenizer(s):\n",
        "    path=\"/usr/local/lib/python3.6/dist-packages/pymorphy2_dicts_ru/data\"\n",
        "    morph = pymorphy2.MorphAnalyzer(path=path, lang='ru')\n",
        "    if isinstance(s, str):\n",
        "        t = s.split(' ')\n",
        "    else:\n",
        "        t = s\n",
        "    f = []\n",
        "    for j in t:\n",
        "        m = morph.parse(j.replace('.',''))\n",
        "        if len(m) != 0:\n",
        "            wrd = m[0]\n",
        "            if wrd.tag.POS not in ('NUMR','PREP','CONJ','PRCL','INTJ'):\n",
        "                f.append(wrd.normal_form)\n",
        "    return f\n"
      ],
      "execution_count": null,
      "outputs": []
    },
    {
      "cell_type": "code",
      "metadata": {
        "id": "0VlE-0hobBv5"
      },
      "source": [
        "coder = HashingVectorizer(tokenizer=f_tokenizer, n_features=256)"
      ],
      "execution_count": null,
      "outputs": []
    },
    {
      "cell_type": "code",
      "metadata": {
        "id": "tOETwGgPaOQu"
      },
      "source": [
        "TrainNotDuble = train.iloc[1:1000].drop_duplicates() "
      ],
      "execution_count": null,
      "outputs": []
    },
    {
      "cell_type": "code",
      "metadata": {
        "id": "ZGaxwhI9adOw",
        "colab": {
          "base_uri": "https://localhost:8080/",
          "height": 52
        },
        "outputId": "4dc55945-582b-4ad4-e4ed-5d3cd97594b6"
      },
      "source": [
        "trn = coder.fit_transform(TrainNotDuble.passport_issuer_name.tolist()).toarray()"
      ],
      "execution_count": null,
      "outputs": [
        {
          "output_type": "stream",
          "text": [
            "/usr/local/lib/python3.6/dist-packages/sklearn/feature_extraction/text.py:507: UserWarning: The parameter 'token_pattern' will not be used since 'tokenizer' is not None'\n",
            "  warnings.warn(\"The parameter 'token_pattern' will not be used\"\n"
          ],
          "name": "stderr"
        }
      ]
    },
    {
      "cell_type": "code",
      "metadata": {
        "id": "D9ox1OJGcZQq"
      },
      "source": [
        "target = TrainNotDuble.passport_div_code.values"
      ],
      "execution_count": null,
      "outputs": []
    },
    {
      "cell_type": "code",
      "metadata": {
        "id": "52T1ysyBcbRf"
      },
      "source": [
        "pca = PCA(n_components = 15)\n",
        "trn = pca.fit_transform(trn)"
      ],
      "execution_count": null,
      "outputs": []
    },
    {
      "cell_type": "code",
      "metadata": {
        "id": "CmHRC7EPcdX4",
        "colab": {
          "base_uri": "https://localhost:8080/",
          "height": 35
        },
        "outputId": "32f49a99-06ee-4f11-8a88-94861d7765bd"
      },
      "source": [
        "model = RandomForestClassifier(n_estimators = 100, criterion='entropy')\n",
        "\n",
        "TRNtrain, TRNtest, TARtrain, TARtest = train_test_split(trn, target, test_size=0.4)\n",
        "model.fit(TRNtrain, TARtrain)\n",
        "print ('accuracy_score: ', accuracy_score(TARtest, model.predict(TRNtest)))"
      ],
      "execution_count": null,
      "outputs": [
        {
          "output_type": "stream",
          "text": [
            "accuracy_score:  0.40350877192982454\n"
          ],
          "name": "stdout"
        }
      ]
    }
  ]
}